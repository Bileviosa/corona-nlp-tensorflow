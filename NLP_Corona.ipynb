{
  "nbformat": 4,
  "nbformat_minor": 0,
  "metadata": {
    "colab": {
      "name": "NLP - Corona",
      "provenance": []
    },
    "kernelspec": {
      "name": "python3",
      "display_name": "Python 3"
    },
    "language_info": {
      "name": "python"
    }
  },
  "cells": [
    {
      "cell_type": "code",
      "metadata": {
        "colab": {
          "base_uri": "https://localhost:8080/"
        },
        "id": "toKRjVCarH8d",
        "outputId": "50c5bd8b-a925-468e-e7f3-6a08b12c6384"
      },
      "source": [
        "# import package\n",
        "import nltk, os, re, string\n",
        "\n",
        "import numpy as np\n",
        "import pandas as pd \n",
        "import time\n",
        "import numpy\n",
        "import seaborn as sns\n",
        "import pandas as pd\n",
        "import matplotlib.pyplot as plt\n",
        "\n",
        "from nltk.tokenize import word_tokenize\n",
        "from nltk.corpus import stopwords\n",
        "from nltk.stem import WordNetLemmatizer\n",
        "from bs4 import BeautifulSoup\n",
        "import string\n",
        "\n",
        "from sklearn.feature_extraction.text import CountVectorizer\n",
        "from sklearn.model_selection import train_test_split\n",
        "\n",
        "import tensorflow as tf\n",
        "from tensorflow.keras.preprocessing.text import Tokenizer\n",
        "from tensorflow.keras.preprocessing.sequence import pad_sequences\n",
        "from tensorflow.keras import layers, callbacks\n",
        "from tensorflow.keras import Model, Sequential\n",
        "\n",
        "nltk.download('wordnet')\n",
        "nltk.download('stopwords')"
      ],
      "execution_count": 1,
      "outputs": [
        {
          "output_type": "stream",
          "name": "stdout",
          "text": [
            "[nltk_data] Downloading package wordnet to /root/nltk_data...\n",
            "[nltk_data]   Unzipping corpora/wordnet.zip.\n",
            "[nltk_data] Downloading package stopwords to /root/nltk_data...\n",
            "[nltk_data]   Unzipping corpora/stopwords.zip.\n"
          ]
        },
        {
          "output_type": "execute_result",
          "data": {
            "text/plain": [
              "True"
            ]
          },
          "metadata": {},
          "execution_count": 1
        }
      ]
    },
    {
      "cell_type": "code",
      "metadata": {
        "id": "JNm9lLyLtC9W"
      },
      "source": [
        "# membuka csv file (data uji dan latih)\n",
        "d_latih = pd.read_csv(\"drive/MyDrive/Dataset Colabs/Corona_NLP_train.csv\", \n",
        "                      encoding='latin1')\n",
        "d_uji = pd.read_csv(\"drive/MyDrive/Dataset Colabs/Corona_NLP_test.csv\", \n",
        "                     encoding='latin1')"
      ],
      "execution_count": 3,
      "outputs": []
    },
    {
      "cell_type": "code",
      "metadata": {
        "colab": {
          "base_uri": "https://localhost:8080/",
          "height": 362
        },
        "id": "PhUC3lQttUMU",
        "outputId": "67865c55-c526-4ad2-c340-6f992ee0dfae"
      },
      "source": [
        "# membuka data latih\n",
        "d_latih.head()"
      ],
      "execution_count": 4,
      "outputs": [
        {
          "output_type": "execute_result",
          "data": {
            "text/html": [
              "<div>\n",
              "<style scoped>\n",
              "    .dataframe tbody tr th:only-of-type {\n",
              "        vertical-align: middle;\n",
              "    }\n",
              "\n",
              "    .dataframe tbody tr th {\n",
              "        vertical-align: top;\n",
              "    }\n",
              "\n",
              "    .dataframe thead th {\n",
              "        text-align: right;\n",
              "    }\n",
              "</style>\n",
              "<table border=\"1\" class=\"dataframe\">\n",
              "  <thead>\n",
              "    <tr style=\"text-align: right;\">\n",
              "      <th></th>\n",
              "      <th>UserName</th>\n",
              "      <th>ScreenName</th>\n",
              "      <th>Location</th>\n",
              "      <th>TweetAt</th>\n",
              "      <th>OriginalTweet</th>\n",
              "      <th>Sentiment</th>\n",
              "    </tr>\n",
              "  </thead>\n",
              "  <tbody>\n",
              "    <tr>\n",
              "      <th>0</th>\n",
              "      <td>3799</td>\n",
              "      <td>48751</td>\n",
              "      <td>London</td>\n",
              "      <td>16-03-2020</td>\n",
              "      <td>@MeNyrbie @Phil_Gahan @Chrisitv https://t.co/i...</td>\n",
              "      <td>Neutral</td>\n",
              "    </tr>\n",
              "    <tr>\n",
              "      <th>1</th>\n",
              "      <td>3800</td>\n",
              "      <td>48752</td>\n",
              "      <td>UK</td>\n",
              "      <td>16-03-2020</td>\n",
              "      <td>advice Talk to your neighbours family to excha...</td>\n",
              "      <td>Positive</td>\n",
              "    </tr>\n",
              "    <tr>\n",
              "      <th>2</th>\n",
              "      <td>3801</td>\n",
              "      <td>48753</td>\n",
              "      <td>Vagabonds</td>\n",
              "      <td>16-03-2020</td>\n",
              "      <td>Coronavirus Australia: Woolworths to give elde...</td>\n",
              "      <td>Positive</td>\n",
              "    </tr>\n",
              "    <tr>\n",
              "      <th>3</th>\n",
              "      <td>3802</td>\n",
              "      <td>48754</td>\n",
              "      <td>NaN</td>\n",
              "      <td>16-03-2020</td>\n",
              "      <td>My food stock is not the only one which is emp...</td>\n",
              "      <td>Positive</td>\n",
              "    </tr>\n",
              "    <tr>\n",
              "      <th>4</th>\n",
              "      <td>3803</td>\n",
              "      <td>48755</td>\n",
              "      <td>NaN</td>\n",
              "      <td>16-03-2020</td>\n",
              "      <td>Me, ready to go at supermarket during the #COV...</td>\n",
              "      <td>Extremely Negative</td>\n",
              "    </tr>\n",
              "  </tbody>\n",
              "</table>\n",
              "</div>"
            ],
            "text/plain": [
              "   UserName  ...           Sentiment\n",
              "0      3799  ...             Neutral\n",
              "1      3800  ...            Positive\n",
              "2      3801  ...            Positive\n",
              "3      3802  ...            Positive\n",
              "4      3803  ...  Extremely Negative\n",
              "\n",
              "[5 rows x 6 columns]"
            ]
          },
          "metadata": {},
          "execution_count": 4
        }
      ]
    },
    {
      "cell_type": "code",
      "metadata": {
        "colab": {
          "base_uri": "https://localhost:8080/",
          "height": 397
        },
        "id": "bLuxSpLws_39",
        "outputId": "cd522cec-52bb-45e4-f42a-88dab659b2c4"
      },
      "source": [
        "# membuka data uji\n",
        "d_uji.head()"
      ],
      "execution_count": 5,
      "outputs": [
        {
          "output_type": "execute_result",
          "data": {
            "text/html": [
              "<div>\n",
              "<style scoped>\n",
              "    .dataframe tbody tr th:only-of-type {\n",
              "        vertical-align: middle;\n",
              "    }\n",
              "\n",
              "    .dataframe tbody tr th {\n",
              "        vertical-align: top;\n",
              "    }\n",
              "\n",
              "    .dataframe thead th {\n",
              "        text-align: right;\n",
              "    }\n",
              "</style>\n",
              "<table border=\"1\" class=\"dataframe\">\n",
              "  <thead>\n",
              "    <tr style=\"text-align: right;\">\n",
              "      <th></th>\n",
              "      <th>UserName</th>\n",
              "      <th>ScreenName</th>\n",
              "      <th>Location</th>\n",
              "      <th>TweetAt</th>\n",
              "      <th>OriginalTweet</th>\n",
              "      <th>Sentiment</th>\n",
              "    </tr>\n",
              "  </thead>\n",
              "  <tbody>\n",
              "    <tr>\n",
              "      <th>0</th>\n",
              "      <td>1</td>\n",
              "      <td>44953</td>\n",
              "      <td>NYC</td>\n",
              "      <td>02-03-2020</td>\n",
              "      <td>TRENDING: New Yorkers encounter empty supermar...</td>\n",
              "      <td>Extremely Negative</td>\n",
              "    </tr>\n",
              "    <tr>\n",
              "      <th>1</th>\n",
              "      <td>2</td>\n",
              "      <td>44954</td>\n",
              "      <td>Seattle, WA</td>\n",
              "      <td>02-03-2020</td>\n",
              "      <td>When I couldn't find hand sanitizer at Fred Me...</td>\n",
              "      <td>Positive</td>\n",
              "    </tr>\n",
              "    <tr>\n",
              "      <th>2</th>\n",
              "      <td>3</td>\n",
              "      <td>44955</td>\n",
              "      <td>NaN</td>\n",
              "      <td>02-03-2020</td>\n",
              "      <td>Find out how you can protect yourself and love...</td>\n",
              "      <td>Extremely Positive</td>\n",
              "    </tr>\n",
              "    <tr>\n",
              "      <th>3</th>\n",
              "      <td>4</td>\n",
              "      <td>44956</td>\n",
              "      <td>Chicagoland</td>\n",
              "      <td>02-03-2020</td>\n",
              "      <td>#Panic buying hits #NewYork City as anxious sh...</td>\n",
              "      <td>Negative</td>\n",
              "    </tr>\n",
              "    <tr>\n",
              "      <th>4</th>\n",
              "      <td>5</td>\n",
              "      <td>44957</td>\n",
              "      <td>Melbourne, Victoria</td>\n",
              "      <td>03-03-2020</td>\n",
              "      <td>#toiletpaper #dunnypaper #coronavirus #coronav...</td>\n",
              "      <td>Neutral</td>\n",
              "    </tr>\n",
              "  </tbody>\n",
              "</table>\n",
              "</div>"
            ],
            "text/plain": [
              "   UserName  ...           Sentiment\n",
              "0         1  ...  Extremely Negative\n",
              "1         2  ...            Positive\n",
              "2         3  ...  Extremely Positive\n",
              "3         4  ...            Negative\n",
              "4         5  ...             Neutral\n",
              "\n",
              "[5 rows x 6 columns]"
            ]
          },
          "metadata": {},
          "execution_count": 5
        }
      ]
    },
    {
      "cell_type": "code",
      "metadata": {
        "colab": {
          "base_uri": "https://localhost:8080/"
        },
        "id": "qphD2Nt4tg2X",
        "outputId": "b9fdf2bd-2f7c-4094-9b19-31e22b0c2c20"
      },
      "source": [
        "# memeriksa nul pada data latih\n",
        "d_latih.isnull().sum()"
      ],
      "execution_count": 6,
      "outputs": [
        {
          "output_type": "execute_result",
          "data": {
            "text/plain": [
              "UserName            0\n",
              "ScreenName          0\n",
              "Location         8590\n",
              "TweetAt             0\n",
              "OriginalTweet       0\n",
              "Sentiment           0\n",
              "dtype: int64"
            ]
          },
          "metadata": {},
          "execution_count": 6
        }
      ]
    },
    {
      "cell_type": "code",
      "metadata": {
        "colab": {
          "base_uri": "https://localhost:8080/"
        },
        "id": "jBEnoNjTtkn9",
        "outputId": "dbb52cb8-5537-4c21-b27a-95b261c40da2"
      },
      "source": [
        "# memeriksa info dari data latih\n",
        "d_latih.info()"
      ],
      "execution_count": 7,
      "outputs": [
        {
          "output_type": "stream",
          "name": "stdout",
          "text": [
            "<class 'pandas.core.frame.DataFrame'>\n",
            "RangeIndex: 41157 entries, 0 to 41156\n",
            "Data columns (total 6 columns):\n",
            " #   Column         Non-Null Count  Dtype \n",
            "---  ------         --------------  ----- \n",
            " 0   UserName       41157 non-null  int64 \n",
            " 1   ScreenName     41157 non-null  int64 \n",
            " 2   Location       32567 non-null  object\n",
            " 3   TweetAt        41157 non-null  object\n",
            " 4   OriginalTweet  41157 non-null  object\n",
            " 5   Sentiment      41157 non-null  object\n",
            "dtypes: int64(2), object(4)\n",
            "memory usage: 1.9+ MB\n"
          ]
        }
      ]
    },
    {
      "cell_type": "code",
      "metadata": {
        "colab": {
          "base_uri": "https://localhost:8080/",
          "height": 206
        },
        "id": "0V1M2AI6tnGN",
        "outputId": "c2f924ac-33f0-430d-ed61-aee04045dfbb"
      },
      "source": [
        "# menghapus kolom yang tidak akan digunakan\n",
        "d_latih = d_latih.drop(['Location','TweetAt','ScreenName'], axis=1)\n",
        "d_uji = d_uji.drop(['Location','TweetAt','ScreenName'], axis=1)\n",
        "\n",
        "d_latih.head()"
      ],
      "execution_count": 8,
      "outputs": [
        {
          "output_type": "execute_result",
          "data": {
            "text/html": [
              "<div>\n",
              "<style scoped>\n",
              "    .dataframe tbody tr th:only-of-type {\n",
              "        vertical-align: middle;\n",
              "    }\n",
              "\n",
              "    .dataframe tbody tr th {\n",
              "        vertical-align: top;\n",
              "    }\n",
              "\n",
              "    .dataframe thead th {\n",
              "        text-align: right;\n",
              "    }\n",
              "</style>\n",
              "<table border=\"1\" class=\"dataframe\">\n",
              "  <thead>\n",
              "    <tr style=\"text-align: right;\">\n",
              "      <th></th>\n",
              "      <th>UserName</th>\n",
              "      <th>OriginalTweet</th>\n",
              "      <th>Sentiment</th>\n",
              "    </tr>\n",
              "  </thead>\n",
              "  <tbody>\n",
              "    <tr>\n",
              "      <th>0</th>\n",
              "      <td>3799</td>\n",
              "      <td>@MeNyrbie @Phil_Gahan @Chrisitv https://t.co/i...</td>\n",
              "      <td>Neutral</td>\n",
              "    </tr>\n",
              "    <tr>\n",
              "      <th>1</th>\n",
              "      <td>3800</td>\n",
              "      <td>advice Talk to your neighbours family to excha...</td>\n",
              "      <td>Positive</td>\n",
              "    </tr>\n",
              "    <tr>\n",
              "      <th>2</th>\n",
              "      <td>3801</td>\n",
              "      <td>Coronavirus Australia: Woolworths to give elde...</td>\n",
              "      <td>Positive</td>\n",
              "    </tr>\n",
              "    <tr>\n",
              "      <th>3</th>\n",
              "      <td>3802</td>\n",
              "      <td>My food stock is not the only one which is emp...</td>\n",
              "      <td>Positive</td>\n",
              "    </tr>\n",
              "    <tr>\n",
              "      <th>4</th>\n",
              "      <td>3803</td>\n",
              "      <td>Me, ready to go at supermarket during the #COV...</td>\n",
              "      <td>Extremely Negative</td>\n",
              "    </tr>\n",
              "  </tbody>\n",
              "</table>\n",
              "</div>"
            ],
            "text/plain": [
              "   UserName  ...           Sentiment\n",
              "0      3799  ...             Neutral\n",
              "1      3800  ...            Positive\n",
              "2      3801  ...            Positive\n",
              "3      3802  ...            Positive\n",
              "4      3803  ...  Extremely Negative\n",
              "\n",
              "[5 rows x 3 columns]"
            ]
          },
          "metadata": {},
          "execution_count": 8
        }
      ]
    },
    {
      "cell_type": "code",
      "metadata": {
        "id": "k35wwTQAt21t"
      },
      "source": [
        "# fungsi utk mengganti string dengan numerik pada kolom sentimen\n",
        "# positif = 2, netral = 1, dan negatif = 0\n",
        "def convert_Sentiment(label):\n",
        "    if label == \"Extremely Positive\":\n",
        "        return 2\n",
        "    elif label == \"Extremely Negative\":\n",
        "        return 0\n",
        "    elif label == \"Positive\":\n",
        "        return 2\n",
        "    elif label == \"Negative\":\n",
        "        return 0\n",
        "    else:\n",
        "        return 1"
      ],
      "execution_count": 9,
      "outputs": []
    },
    {
      "cell_type": "code",
      "metadata": {
        "colab": {
          "base_uri": "https://localhost:8080/",
          "height": 206
        },
        "id": "hlyJUb2st44T",
        "outputId": "ae06ef63-98a9-441a-c0d2-5916fd89268b"
      },
      "source": [
        "# menerapkan fungsi convert_Sentiment()\n",
        "d_latih.Sentiment = d_latih.Sentiment.apply(lambda x : convert_Sentiment(x))\n",
        "d_latih.head()"
      ],
      "execution_count": 10,
      "outputs": [
        {
          "output_type": "execute_result",
          "data": {
            "text/html": [
              "<div>\n",
              "<style scoped>\n",
              "    .dataframe tbody tr th:only-of-type {\n",
              "        vertical-align: middle;\n",
              "    }\n",
              "\n",
              "    .dataframe tbody tr th {\n",
              "        vertical-align: top;\n",
              "    }\n",
              "\n",
              "    .dataframe thead th {\n",
              "        text-align: right;\n",
              "    }\n",
              "</style>\n",
              "<table border=\"1\" class=\"dataframe\">\n",
              "  <thead>\n",
              "    <tr style=\"text-align: right;\">\n",
              "      <th></th>\n",
              "      <th>UserName</th>\n",
              "      <th>OriginalTweet</th>\n",
              "      <th>Sentiment</th>\n",
              "    </tr>\n",
              "  </thead>\n",
              "  <tbody>\n",
              "    <tr>\n",
              "      <th>0</th>\n",
              "      <td>3799</td>\n",
              "      <td>@MeNyrbie @Phil_Gahan @Chrisitv https://t.co/i...</td>\n",
              "      <td>1</td>\n",
              "    </tr>\n",
              "    <tr>\n",
              "      <th>1</th>\n",
              "      <td>3800</td>\n",
              "      <td>advice Talk to your neighbours family to excha...</td>\n",
              "      <td>2</td>\n",
              "    </tr>\n",
              "    <tr>\n",
              "      <th>2</th>\n",
              "      <td>3801</td>\n",
              "      <td>Coronavirus Australia: Woolworths to give elde...</td>\n",
              "      <td>2</td>\n",
              "    </tr>\n",
              "    <tr>\n",
              "      <th>3</th>\n",
              "      <td>3802</td>\n",
              "      <td>My food stock is not the only one which is emp...</td>\n",
              "      <td>2</td>\n",
              "    </tr>\n",
              "    <tr>\n",
              "      <th>4</th>\n",
              "      <td>3803</td>\n",
              "      <td>Me, ready to go at supermarket during the #COV...</td>\n",
              "      <td>0</td>\n",
              "    </tr>\n",
              "  </tbody>\n",
              "</table>\n",
              "</div>"
            ],
            "text/plain": [
              "   UserName                                      OriginalTweet  Sentiment\n",
              "0      3799  @MeNyrbie @Phil_Gahan @Chrisitv https://t.co/i...          1\n",
              "1      3800  advice Talk to your neighbours family to excha...          2\n",
              "2      3801  Coronavirus Australia: Woolworths to give elde...          2\n",
              "3      3802  My food stock is not the only one which is emp...          2\n",
              "4      3803  Me, ready to go at supermarket during the #COV...          0"
            ]
          },
          "metadata": {},
          "execution_count": 10
        }
      ]
    },
    {
      "cell_type": "code",
      "metadata": {
        "id": "msOBmb_XuJKr"
      },
      "source": [
        "# fungsi untuk cleaning teks dan menerapkannya pada data latih\n",
        "def cleaning_text(text):\n",
        "    stop_words = stopwords.words(\"english\")\n",
        "\n",
        "    text = re.sub(r'http\\S+', \" \", text)    # hapus url\n",
        "    text = re.sub(r'@\\w+',' ',text)         # hapus mention\n",
        "    text = re.sub(r'#\\w+', ' ', text)       # hapus hastag\n",
        "    text = re.sub('r<.*?>',' ', text)       # hapus html tag\n",
        "    \n",
        "    # hapus stopwords \n",
        "    text = text.split()\n",
        "    text = \" \".join([word for word in text if not word in stop_words])\n",
        "\n",
        "    for punctuation in string.punctuation:\n",
        "        text = text.replace(punctuation, \"\")\n",
        "    \n",
        "    return text\n",
        "\n",
        "# menyimpan hasil cleaning dalam df preprocessing\n",
        "d_latih['preprocessing_results'] = d_latih['OriginalTweet'].apply(lambda x: cleaning_text(x))"
      ],
      "execution_count": 11,
      "outputs": []
    },
    {
      "cell_type": "code",
      "metadata": {
        "colab": {
          "base_uri": "https://localhost:8080/"
        },
        "id": "XX3jOSXxu5Cb",
        "outputId": "06c6e355-83ac-4de6-fce0-4bf33133838d"
      },
      "source": [
        "# menampilkan 5 baris hasil preprocessing\n",
        "for i in range(5):\n",
        "    print('----------------------------------------------')\n",
        "    random_number=np.random.randint(0,len(d_latih)-1)\n",
        "    print(d_latih.preprocessing_results[random_number])\n",
        "    print('----------------------------------------------\\n')"
      ],
      "execution_count": 13,
      "outputs": [
        {
          "output_type": "stream",
          "name": "stdout",
          "text": [
            "----------------------------------------------\n",
            "California woman arrested licking groceries supermarket 19\n",
            "----------------------------------------------\n",
            "\n",
            "----------------------------------------------\n",
            "Our sharing updates insights impact consumer shopping behavior retail begin 10 min Stay turned live updates\n",
            "----------------------------------------------\n",
            "\n",
            "----------------------------------------------\n",
            "Were early stages If government financially support need think happen thousands run money You grocery store left shop at even fortunate enough income\n",
            "----------------------------------------------\n",
            "\n",
            "----------------------------------------------\n",
            "Gloves removed cuff trash Wash hands AND face soap amp mild bleach solution I use PPE reminders too focus I handle items I keep sanitizer shopping Still this I worry  have2B right 100\n",
            "----------------------------------------------\n",
            "\n",
            "----------------------------------------------\n",
            "Kindly contact Us bamy global merchandise high quality COVID 19 fast test kits WHOLESALE prices GUN TYPE INFRARED THERMOMETER FACE MASK 3M TYPE FACE MASK kindly DM contact bamyglobal com 8615777877688 Whatspps 8618607740759 07063501522 08028611855\n",
            "----------------------------------------------\n",
            "\n"
          ]
        }
      ]
    },
    {
      "cell_type": "code",
      "metadata": {
        "colab": {
          "base_uri": "https://localhost:8080/"
        },
        "id": "oFZ8DcVWu_Fm",
        "outputId": "388aecdb-6e15-44c1-b100-c61c79ac139f"
      },
      "source": [
        "# mencari max kalimat\n",
        "max_len_words = max(list(d_latih['preprocessing_results'].apply(len)))\n",
        "print(max_len_words)"
      ],
      "execution_count": 14,
      "outputs": [
        {
          "output_type": "stream",
          "name": "stdout",
          "text": [
            "306\n"
          ]
        }
      ]
    },
    {
      "cell_type": "code",
      "metadata": {
        "colab": {
          "base_uri": "https://localhost:8080/"
        },
        "id": "cpT9GZFXvBuv",
        "outputId": "3ea1d146-32ed-4cf2-f111-e1df8bc73f94"
      },
      "source": [
        "# membuat fungsi tokenizer \n",
        "def tokenizer(x_train, y_train, max_len_word):\n",
        "    # karena datanya skewed, maka digunakan \"stratify\" \n",
        "    X_train, X_val, y_train, y_val = train_test_split(x_train, y_train, \n",
        "                                                      test_size=.2, shuffle=True, \n",
        "                                                      stratify=y_train, random_state=0)\n",
        "\n",
        "    # Tokenizer\n",
        "    tokenizer = Tokenizer(num_words=5000)\n",
        "    tokenizer.fit_on_texts(X_train)\n",
        "    sequence_dict = tokenizer.word_index\n",
        "    word_dict = dict((num, val) for (val, num) in sequence_dict.items())\n",
        "\n",
        "    # Sequence data\n",
        "    train_sequences = tokenizer.texts_to_sequences(X_train)\n",
        "    train_padded = pad_sequences(train_sequences,\n",
        "                                 maxlen=max_len_word,\n",
        "                                 truncating='post',\n",
        "                                 padding='post')\n",
        "    \n",
        "    val_sequences = tokenizer.texts_to_sequences(X_val)\n",
        "    val_padded = pad_sequences(val_sequences,\n",
        "                                maxlen=max_len_word,\n",
        "                                truncating='post',\n",
        "                                padding='post', )\n",
        "    \n",
        "    print(train_padded.shape)\n",
        "    print(val_padded.shape)\n",
        "    print('Total words: {}'.format(len(word_dict)))\n",
        "    return train_padded, val_padded, y_train, y_val, word_dict\n",
        "\n",
        "X_train, X_val, y_train, y_val, word_dict = tokenizer(d_latih.preprocessing_results, d_latih.Sentiment, 300)"
      ],
      "execution_count": 15,
      "outputs": [
        {
          "output_type": "stream",
          "name": "stdout",
          "text": [
            "(32925, 300)\n",
            "(8232, 300)\n",
            "Total words: 37419\n"
          ]
        }
      ]
    },
    {
      "cell_type": "code",
      "metadata": {
        "colab": {
          "base_uri": "https://localhost:8080/"
        },
        "id": "f4Y9VL7HvFRT",
        "outputId": "7d99cf6a-ea8e-4b1b-d54c-3c95b413c91b"
      },
      "source": [
        "# jumlah kelas sentimen\n",
        "num_classes = d_latih.Sentiment.nunique()\n",
        "print(num_classes)"
      ],
      "execution_count": 16,
      "outputs": [
        {
          "output_type": "stream",
          "name": "stdout",
          "text": [
            "3\n"
          ]
        }
      ]
    },
    {
      "cell_type": "code",
      "metadata": {
        "id": "k6v9A2z5vHXU"
      },
      "source": [
        "# mengembangkan model sequential, dengan lstm\n",
        "model = Sequential([\n",
        "    layers.Embedding(5000, 300, input_length=300),\n",
        "    layers.Bidirectional(layers.LSTM(64, return_sequences=True, recurrent_dropout=0.4)),\n",
        "    #layers.LSTM(64, return_sequences=True, recurrent_dropout=0.4),\n",
        "    #layers.BatchNormalization(),\n",
        "    layers.GlobalAveragePooling1D(),   \n",
        "    layers.Dense(64, activation='relu'),\n",
        "    layers.Dropout(0.4),\n",
        "    layers.Dense(num_classes, activation='softmax')\n",
        "])"
      ],
      "execution_count": 17,
      "outputs": []
    },
    {
      "cell_type": "code",
      "metadata": {
        "colab": {
          "base_uri": "https://localhost:8080/"
        },
        "id": "TMTSr1z2vMII",
        "outputId": "7628ff62-440b-4785-e5e0-3f2a39c134d3"
      },
      "source": [
        "model.summary()"
      ],
      "execution_count": 18,
      "outputs": [
        {
          "output_type": "stream",
          "name": "stdout",
          "text": [
            "Model: \"sequential\"\n",
            "_________________________________________________________________\n",
            "Layer (type)                 Output Shape              Param #   \n",
            "=================================================================\n",
            "embedding (Embedding)        (None, 300, 300)          1500000   \n",
            "_________________________________________________________________\n",
            "bidirectional (Bidirectional (None, 300, 128)          186880    \n",
            "_________________________________________________________________\n",
            "global_average_pooling1d (Gl (None, 128)               0         \n",
            "_________________________________________________________________\n",
            "dense (Dense)                (None, 64)                8256      \n",
            "_________________________________________________________________\n",
            "dropout (Dropout)            (None, 64)                0         \n",
            "_________________________________________________________________\n",
            "dense_1 (Dense)              (None, 3)                 195       \n",
            "=================================================================\n",
            "Total params: 1,695,331\n",
            "Trainable params: 1,695,331\n",
            "Non-trainable params: 0\n",
            "_________________________________________________________________\n"
          ]
        }
      ]
    },
    {
      "cell_type": "code",
      "metadata": {
        "id": "ZLzgQaqKvOP0"
      },
      "source": [
        "# menentukan optimizer dan loss\n",
        "model.compile(loss=tf.keras.losses.SparseCategoricalCrossentropy(),\n",
        "              optimizer=tf.keras.optimizers.Adam(learning_rate=0.001),\n",
        "              metrics=['accuracy'])"
      ],
      "execution_count": 19,
      "outputs": []
    },
    {
      "cell_type": "code",
      "metadata": {
        "id": "UMdCdz41gR8D"
      },
      "source": [
        "# class callback\n",
        "class myCallback(tf.keras.callbacks.Callback):\n",
        "  def on_epoch_end(self, epoch, logs={}):\n",
        "    if(logs.get('accuracy')>0.90):\n",
        "      print(\"\\nAkurasi telah mencapai >90%!\")\n",
        "      self.model.stop_training = True\n",
        "callbacks = myCallback()"
      ],
      "execution_count": 25,
      "outputs": []
    },
    {
      "cell_type": "code",
      "metadata": {
        "colab": {
          "base_uri": "https://localhost:8080/"
        },
        "id": "kjdTYP4JvP5R",
        "outputId": "533a0414-3fd2-4e7c-dab2-b553e327a312"
      },
      "source": [
        "start = time.perf_counter()\n",
        "\n",
        "history = model.fit(X_train, y_train,\n",
        "                    epochs=10, \n",
        "                    validation_data=(X_val, y_val),\n",
        "                    callbacks=[callbacks], \n",
        "                    shuffle=True)\n",
        "\n",
        "elapsed = time.perf_counter() - start\n",
        "print('Elapsed %.3f seconds.' % elapsed)"
      ],
      "execution_count": 26,
      "outputs": [
        {
          "output_type": "stream",
          "name": "stdout",
          "text": [
            "Epoch 1/10\n",
            "1029/1029 [==============================] - 1035s 1s/step - loss: 0.8103 - accuracy: 0.6180 - val_loss: 0.4947 - val_accuracy: 0.8241\n",
            "Epoch 2/10\n",
            "1029/1029 [==============================] - 1033s 1s/step - loss: 0.4240 - accuracy: 0.8641 - val_loss: 0.4690 - val_accuracy: 0.8450\n",
            "Epoch 3/10\n",
            "1029/1029 [==============================] - 1039s 1s/step - loss: 0.3551 - accuracy: 0.8873 - val_loss: 0.4484 - val_accuracy: 0.8528\n",
            "Epoch 4/10\n",
            "1029/1029 [==============================] - 1038s 1s/step - loss: 0.3101 - accuracy: 0.9028 - val_loss: 0.4987 - val_accuracy: 0.8331\n",
            "\n",
            "Akurasi telah mencapai >90%!\n",
            "Elapsed 4144.480 seconds.\n"
          ]
        }
      ]
    },
    {
      "cell_type": "code",
      "metadata": {
        "colab": {
          "base_uri": "https://localhost:8080/",
          "height": 295
        },
        "id": "W2-ZIKJ5vXHN",
        "outputId": "a0547b71-5dea-457a-fe1f-4f39000da624"
      },
      "source": [
        "plt.plot(history.history['loss'], color='red')\n",
        "plt.title('Model loss')\n",
        "plt.ylabel('Loss')\n",
        "plt.xlabel('Epoch')\n",
        "plt.legend(['Train'], loc='upper right')\n",
        "plt.show()"
      ],
      "execution_count": 27,
      "outputs": [
        {
          "output_type": "display_data",
          "data": {
            "image/png": "[encoded data removed]",
            "text/plain": [
              "<Figure size 432x288 with 1 Axes>"
            ]
          },
          "metadata": {
            "needs_background": "light"
          }
        }
      ]
    },
    {
      "cell_type": "code",
      "metadata": {
        "id": "LDPTO_hdOW40",
        "colab": {
          "base_uri": "https://localhost:8080/",
          "height": 295
        },
        "outputId": "2a6868f3-687f-4174-d61f-bd6046797d30"
      },
      "source": [
        "plt.plot(history.history['accuracy'], color='blue')\n",
        "plt.title('Model accuracy')\n",
        "plt.ylabel('Accuracy')\n",
        "plt.xlabel('Epoch')\n",
        "plt.legend(['Train'], loc='lower right')\n",
        "plt.show()"
      ],
      "execution_count": 28,
      "outputs": [
        {
          "output_type": "display_data",
          "data": {
            "image/png": "[encoded data removed]",
            "text/plain": [
              "<Figure size 432x288 with 1 Axes>"
            ]
          },
          "metadata": {
            "needs_background": "light"
          }
        }
      ]
    }
  ]
}